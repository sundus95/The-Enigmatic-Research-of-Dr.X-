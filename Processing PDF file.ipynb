{
 "cells": [
  {
   "cell_type": "code",
   "execution_count": 3,
   "id": "9f345dd4",
   "metadata": {},
   "outputs": [
    {
     "name": "stdout",
     "output_type": "stream",
     "text": [
      "Processing: new-approaches-and-procedures-for-cancer-treatment.pdf\n",
      "Processing: Ocean_ecogeochemistry_A_review.pdf\n",
      "Processing: The-Alchemist.pdf\n",
      "Processing: The_Plan_of_the_Giza_Pyramids.pdf\n",
      "\n",
      " Output saved to: pdf_chunks_text.csv\n"
     ]
    }
   ],
   "source": [
    "import os\n",
    "import csv\n",
    "from pathlib import Path\n",
    "from PyPDF2 import PdfReader\n",
    "import tiktoken  # Make sure to install this package: pip install tiktoken\n",
    "\n",
    "# Setup tokenizer\n",
    "tokenizer = tiktoken.get_encoding(\"cl100k_base\")\n",
    "\n",
    "def extract_text_from_pdf(pdf_path):\n",
    "    text_by_page = []\n",
    "    try:\n",
    "        reader = PdfReader(pdf_path)\n",
    "        for page_num, page in enumerate(reader.pages):\n",
    "            text = page.extract_text()\n",
    "            text_by_page.append((page_num + 1, text))\n",
    "    except Exception as e:\n",
    "        print(f\"Error reading {pdf_path}: {e}\")\n",
    "    return text_by_page\n",
    "\n",
    "def process_pdf_files(pdf_folder, output_csv_path):\n",
    "    pdf_files = list(Path(pdf_folder).glob(\"*.pdf\"))\n",
    "    chunk_data = []\n",
    "    \n",
    "    for pdf_path in pdf_files:\n",
    "        print(f\"Processing: {pdf_path.name}\")\n",
    "        text_by_page = extract_text_from_pdf(pdf_path)\n",
    "\n",
    "        chunk_counter = 1  # Reset for each file\n",
    "        for page_num, page_text in text_by_page:\n",
    "            if not page_text or page_text.strip() == \"\":\n",
    "                continue  # skip empty pages\n",
    "            tokens = tokenizer.encode(page_text)\n",
    "            chunk_data.append({\n",
    "                \"source\": pdf_path.name,\n",
    "                \"page_number\": page_num,\n",
    "                \"chunk_number\":chunk_counter, \n",
    "                \"text\": page_text.strip()\n",
    "            })\n",
    "            chunk_counter += 1  # Increment after each chunk\n",
    "\n",
    "    # Write output to CSV\n",
    "    with open(output_csv_path, \"w\", encoding=\"utf-8\", newline=\"\") as csvfile:\n",
    "        writer = csv.DictWriter(csvfile, fieldnames=[\"source\", \"page_number\", \"chunk_number\", \"text\"])\n",
    "        writer.writeheader()\n",
    "        writer.writerows(chunk_data)\n",
    "\n",
    "    print(f\"\\n Output saved to: {output_csv_path}\")\n",
    "\n",
    "# Run the processing\n",
    "pdf_folder = r\"C:\\Users\\salsubhi1\\PycharmProjects\\Enigmatic Research\\Dr.X Files\"\n",
    "output_csv = \"pdf_chunks_text.csv\"\n",
    "process_pdf_files(pdf_folder, output_csv)"
   ]
  },
  {
   "cell_type": "code",
   "execution_count": null,
   "id": "dc6ff7e1",
   "metadata": {},
   "outputs": [],
   "source": []
  }
 ],
 "metadata": {
  "kernelspec": {
   "display_name": "Python (clean_env)",
   "language": "python",
   "name": "clean_env"
  },
  "language_info": {
   "codemirror_mode": {
    "name": "ipython",
    "version": 3
   },
   "file_extension": ".py",
   "mimetype": "text/x-python",
   "name": "python",
   "nbconvert_exporter": "python",
   "pygments_lexer": "ipython3",
   "version": "3.10.17"
  }
 },
 "nbformat": 4,
 "nbformat_minor": 5
}
